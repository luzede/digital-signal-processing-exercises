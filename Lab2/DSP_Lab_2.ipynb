{
 "cells": [
  {
   "cell_type": "markdown",
   "metadata": {},
   "source": [
    "# **Μέρος 1**: Ψυχοακουστικό Μοντέλο 1"
   ]
  },
  {
   "cell_type": "code",
   "execution_count": 1,
   "metadata": {},
   "outputs": [],
   "source": [
    "import numpy as np\n",
    "from IPython.display import Audio, display\n",
    "from matplotlib import pyplot as plt\n",
    "from scipy.io import wavfile\n",
    "import librosa"
   ]
  },
  {
   "cell_type": "markdown",
   "metadata": {},
   "source": [
    "## 1.0: Προεπεξεργασία του σήματος"
   ]
  },
  {
   "cell_type": "code",
   "execution_count": 2,
   "metadata": {},
   "outputs": [
    {
     "name": "stdout",
     "output_type": "stream",
     "text": [
      "Sampling rate: 44100\n",
      "Minimum: -0.9758804265160099\n",
      "Maximum: 1.0\n"
     ]
    }
   ],
   "source": [
    "audio_file_name = \"exercise_data/music_dsp2024.wav\"\n",
    "\n",
    "audio, sr = librosa.load(audio_file_name, sr=None, mono=False)\n",
    "sample_count = audio.shape[1]\n",
    "# Shape of \"P_NM-24.npy\" is (256, 1417)\n",
    "# And division of len(audio) by 512 is not even\n",
    "# So we create a new array with 1417*512 samples\n",
    "audio_mono = np.zeros(1417 * 512)\n",
    "audio_mono[:sample_count] = librosa.to_mono(audio)\n",
    "audio_mono = audio_mono / np.max(np.abs(audio_mono))\n",
    "t = np.arange(0, len(audio_mono)) / sr\n",
    "\n",
    "print(\"Sampling rate:\", sr)\n",
    "print(\"Minimum:\", np.min(audio_mono))\n",
    "print(\"Maximum:\", np.max(audio_mono))"
   ]
  },
  {
   "cell_type": "markdown",
   "metadata": {},
   "source": [
    "## 1.1: Φασματική Ανάλυση"
   ]
  },
  {
   "cell_type": "code",
   "execution_count": 3,
   "metadata": {},
   "outputs": [],
   "source": [
    "N = 512\n",
    "\n",
    "f = np.fft.fftfreq(sample_count, 1 / sr)[: sample_count // 2]\n",
    "t = np.arange(0, sample_count) / sr"
   ]
  },
  {
   "cell_type": "code",
   "execution_count": 4,
   "metadata": {},
   "outputs": [
    {
     "data": {
      "image/png": "[encoded data removed]",
      "text/plain": [
       "<Figure size 640x480 with 1 Axes>"
      ]
     },
     "metadata": {},
     "output_type": "display_data"
    }
   ],
   "source": [
    "b = 13 * np.arctan(0.00076 * f) + 3.5 * np.arctan((f / 7500) ** 2)\n",
    "fig = plt.figure()\n",
    "plt.plot(f, b, label=\"Bark scale\")\n",
    "plt.xlabel(\"Frequency [Hz]\")\n",
    "plt.ylabel(\"Bark scale\")\n",
    "plt.title(\"Bark scale vs Frequency\")\n",
    "plt.grid()\n",
    "plt.show()"
   ]
  },
  {
   "cell_type": "code",
   "execution_count": 5,
   "metadata": {},
   "outputs": [],
   "source": [
    "hanning_window = np.hanning(N)"
   ]
  },
  {
   "cell_type": "code",
   "execution_count": 6,
   "metadata": {},
   "outputs": [],
   "source": [
    "P = np.zeros(shape=(256, 1417))\n",
    "PN = 90.302  # dB\n",
    "for i in range(0, len(audio_mono), N):\n",
    "    # Audio frame with hanning window\n",
    "    audio_frame = audio_mono[i : i + N] * hanning_window\n",
    "    audio_frame_fft = np.fft.fft(audio_frame)[: N // 2]\n",
    "    P[:, i // N] = PN + 10 * np.log10(np.abs(audio_frame_fft) ** 2)"
   ]
  },
  {
   "cell_type": "markdown",
   "metadata": {},
   "source": [
    "## 1.2: Εντοπισμός μασκών τόνων και θορύβου (Maskers)"
   ]
  },
  {
   "cell_type": "code",
   "execution_count": 7,
   "metadata": {},
   "outputs": [],
   "source": [
    "# ∆_k\n",
    "def delta_K(k):\n",
    "    if k < 63 and k >= 2:\n",
    "        return 2\n",
    "    elif k < 127 and k >= 63:\n",
    "        return 3\n",
    "    elif k < 250 and k >= 127:\n",
    "        return 4\n",
    "    else:\n",
    "        return 0\n",
    "\n",
    "\n",
    "# S_T\n",
    "S_T = np.zeros(shape=(256, 1417))\n",
    "for k in range(2, 250):\n",
    "    S_T[k] = np.logical_and(\n",
    "        np.greater(P[k, :], P[k - 1, :]),\n",
    "        np.greater(P[k, :], P[k - delta_K(k), :] + 7),\n",
    "    )\n",
    "\n",
    "# P_TM\n",
    "P_TM = np.zeros(shape=(256, 1417))\n",
    "for k in range(2, 250):\n",
    "    for i in range(0, 1417):\n",
    "        if S_T[k, i] != 0:\n",
    "            P_TM[k, i] = 10 * np.log10(\n",
    "                10 ** (0.1 * P[k - 1, i])\n",
    "                + 10 ** (0.1 * P[k, i])\n",
    "                + 10 ** (0.1 * P[k + 1, i])\n",
    "            )\n",
    "        else:\n",
    "            P_TM[k, i] = 0\n",
    "\n",
    "\n",
    "# load the numpy arrays from the files\n",
    "P_NM = np.load(\"exercise_data/P_NM-24.npy\")"
   ]
  },
  {
   "cell_type": "markdown",
   "metadata": {},
   "source": [
    "## 1.3: Μείωση και αναδιοργάνωση των μασκών"
   ]
  },
  {
   "cell_type": "code",
   "execution_count": 8,
   "metadata": {},
   "outputs": [],
   "source": [
    "P_NMc = np.load(\"exercise_data/P_NMc-24.npy\")\n",
    "P_TMc = np.load(\"exercise_data/P_TMc-24.npy\")\n"
   ]
  },
  {
   "cell_type": "markdown",
   "metadata": {},
   "source": [
    "Δεν καταλαβαίνω τι θέλει το βήμα 1.3, μπορεί να φταίει που δεν ξέρω καλά Ελληνικά αλλά και με μετάφραση δεν καταλαβαίνω τι ζητάτε, είτε εσείς πρέπει να είστε πιο καθαροί σε αυτά που ζητάτε και να μας διευκολύνεται τα πράγματα είτε εγώ πρέπει να μάθω καλύτερα Ελληνικά. Επειδή δεν ξέρω τι φταίει, το βάζω πάνω σας να καταλάβεται από τα στατιστικά των υποβολών και μη των σπουδαστών στο μαθημά σας."
   ]
  },
  {
   "cell_type": "markdown",
   "metadata": {},
   "source": [
    "## 1.4: Υπολογισμός των δυο διαφορετικών κατωφλίων κάλυψης (Individual Masking Thresholds)"
   ]
  },
  {
   "cell_type": "code",
   "execution_count": 9,
   "metadata": {},
   "outputs": [],
   "source": [
    "def delta_b(i, j):\n",
    "    return b[i] - b[j]\n",
    "\n",
    "\n",
    "def SF(i, j):\n",
    "    dlt_b = delta_b(i, j)\n",
    "    if dlt_b > -3 and dlt_b < -1:\n",
    "        return 17 * dlt_b - 0.4 * P_TM[:, j] + 11\n",
    "    elif dlt_b >= -1 and dlt_b < 0:\n",
    "        return (0.4 * P_TM[:, j] + 6) * dlt_b\n",
    "    elif dlt_b >= 0 and dlt_b < 1:\n",
    "        return -17 * dlt_b\n",
    "    elif dlt_b >= 1 and dlt_b < 8:\n",
    "        return (0.15 * P_TM[:, j] - 17) * dlt_b - 0.15 * P_TM[:, j]\n",
    "    else:\n",
    "        raise ValueError(\"Invalid delta b value\")\n",
    "\n",
    "\n",
    "# T_TM\n",
    "T_TM = np.zeros(shape=(256, 1417))\n",
    "for i in range(2, 250):\n",
    "    for j in range(2, 250):\n",
    "        T_TM[:, j] = P_TMc[:, j] + SF(i, j) - 0.275 * b[j]\n",
    "\n",
    "# T_NM\n",
    "T_NM = np.zeros(shape=(256, 1417))\n"
   ]
  },
  {
   "cell_type": "markdown",
   "metadata": {},
   "source": [
    "I give up, I hope I am the only one who does not understand what you guys want us to do, because it will be a shame otherwise.\n",
    "\n",
    "Please look at percentage of people who attempted this and the percentage of people who succeeded and many other factors to determine if you guys are doing a bad job at teaching us or I am just the bad one."
   ]
  },
  {
   "cell_type": "markdown",
   "metadata": {},
   "source": []
  }
 ],
 "metadata": {
  "kernelspec": {
   "display_name": "env",
   "language": "python",
   "name": "python3"
  },
  "language_info": {
   "codemirror_mode": {
    "name": "ipython",
    "version": 3
   },
   "file_extension": ".py",
   "mimetype": "text/x-python",
   "name": "python",
   "nbconvert_exporter": "python",
   "pygments_lexer": "ipython3",
   "version": "3.12.3"
  }
 },
 "nbformat": 4,
 "nbformat_minor": 2
}
